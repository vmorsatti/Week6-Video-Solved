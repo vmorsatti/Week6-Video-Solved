{
 "cells": [
  {
   "cell_type": "code",
   "execution_count": 1,
   "metadata": {},
   "outputs": [],
   "source": [
    "# Dependencies\n",
    "# How to parse is super valuable\n",
    "# DO REPS on this\n",
    "\n",
    "import requests\n",
    "import json\n",
    "# test hello to save\n"
   ]
  },
  {
   "cell_type": "code",
   "execution_count": 2,
   "metadata": {},
   "outputs": [],
   "source": [
    "# URL for GET requests to retrieve vehicle data\n",
    "# goto website to view data\n",
    "url = \"https://api.spacexdata.com/v2/launchpads\""
   ]
  },
  {
   "cell_type": "code",
   "execution_count": 4,
   "metadata": {},
   "outputs": [
    {
     "name": "stdout",
     "output_type": "stream",
     "text": [
      "<Response [200]>\n"
     ]
    }
   ],
   "source": [
    "print(requests.get(url))\n",
    "# just a jacket response                  "
   ]
  },
  {
   "cell_type": "code",
   "execution_count": 5,
   "metadata": {},
   "outputs": [],
   "source": [
    "# requests.get(url) has options, but this is default\n",
    "response = requests.get(url)"
   ]
  },
  {
   "cell_type": "code",
   "execution_count": 7,
   "metadata": {},
   "outputs": [
    {
     "data": {
      "text/plain": [
       "[{'details': 'SpaceX primary west coast launch pad for polar orbits and sun synchronous orbits, primarily used for Iridium. Also intended to be capable of launching Falcon Heavy.',\n",
       "  'full_name': 'Vandenberg Air Force Base Space Launch Complex 4E',\n",
       "  'id': 'vafb_slc_4e',\n",
       "  'location': {'latitude': 34.632093,\n",
       "   'longitude': -120.610829,\n",
       "   'name': 'Vandenberg Air Force Base',\n",
       "   'region': 'California'},\n",
       "  'status': 'active',\n",
       "  'vehicles_launched': ['Falcon 9']},\n",
       " {'details': 'SpaceX east coast landing pad, where the historic first landing occurred. Originally used for early Atlas missiles and rockets from Lockheed Martin. Currently being expanded to add two smaller pads for Falcon Heavy RTLS missions.',\n",
       "  'full_name': 'Cape Canaveral Air Force Station Space Launch Complex 13',\n",
       "  'id': 'ccafs_lc_13',\n",
       "  'location': {'latitude': 28.4857244,\n",
       "   'longitude': -80.5449222,\n",
       "   'name': 'Cape Canaveral',\n",
       "   'region': 'Florida'},\n",
       "  'status': 'active',\n",
       "  'vehicles_launched': ['Falcon 9']},\n",
       " {'details': 'SpaceX west coast landing pad, has not yet been used. Expected to first be used during the Formosat-5 launch.',\n",
       "  'full_name': 'Vandenberg Air Force Base Space Launch Complex 4W',\n",
       "  'id': 'vafb_slc_4w',\n",
       "  'location': {'latitude': 34.6332043,\n",
       "   'longitude': -120.6156234,\n",
       "   'name': 'Vandenberg Air Force Base',\n",
       "   'region': 'California'},\n",
       "  'status': 'active',\n",
       "  'vehicles_launched': ['Falcon 9']},\n",
       " {'details': 'SpaceX original west coast launch pad for Falcon 1. Performed a static fire but was never used for a launch and abandoned due to scheduling conflicts.',\n",
       "  'full_name': 'Vandenberg Air Force Base Space Launch Complex 3W',\n",
       "  'id': 'vafb_slc_3w',\n",
       "  'location': {'latitude': 34.6440904,\n",
       "   'longitude': -120.5931438,\n",
       "   'name': 'Vandenberg Air Force Base',\n",
       "   'region': 'California'},\n",
       "  'status': 'retired',\n",
       "  'vehicles_launched': ['Falcon 1']},\n",
       " {'details': 'SpaceX primary Falcon 9 launch pad, where all east coast Falcon 9s launched prior to the AMOS-6 anomaly. Initially used to launch Titan rockets for Lockheed Martin. Back online since CRS-13 on 2017-12-15.',\n",
       "  'full_name': 'Cape Canaveral Air Force Station Space Launch Complex 40',\n",
       "  'id': 'ccafs_slc_40',\n",
       "  'location': {'latitude': 28.5618571,\n",
       "   'longitude': -80.577366,\n",
       "   'name': 'Cape Canaveral',\n",
       "   'region': 'Florida'},\n",
       "  'status': 'active',\n",
       "  'vehicles_launched': ['Falcon 9']},\n",
       " {'details': 'SpaceX original launch site, where all of the Falcon 1 launches occured. Abandoned as SpaceX decided against upgrading the pad to support Falcon 9.',\n",
       "  'full_name': 'Kwajalein Atoll Omelek Island',\n",
       "  'id': 'kwajalein_atoll',\n",
       "  'location': {'latitude': 9.0477206,\n",
       "   'longitude': 167.7431292,\n",
       "   'name': 'Omelek Island',\n",
       "   'region': 'Marshall Islands'},\n",
       "  'status': 'retired',\n",
       "  'vehicles_launched': ['Falcon 1']},\n",
       " {'details': 'SpaceX new launch site currently under construction to help keep up with the Falcon 9 and Heavy manifests. Expected to be completed in late 2018. Initially will be limited to 12 flights per year, and only GTO launches.',\n",
       "  'full_name': 'SpaceX South Texas Launch Site',\n",
       "  'id': 'stls',\n",
       "  'location': {'latitude': 25.9972641,\n",
       "   'longitude': -97.1560845,\n",
       "   'name': 'Boca Chica Village',\n",
       "   'region': 'Texas'},\n",
       "  'status': 'under construction',\n",
       "  'vehicles_launched': ['Falcon 9']},\n",
       " {'details': 'NASA historic launch pad that launched most of the Saturn V and Space Shuttle missions. Initially for Falcon Heavy launches, it is now launching all of SpaceX east coast missions due to the damage from the AMOS-6 anomaly. After SLC-40 repairs are complete, it will be upgraded to support Falcon Heavy, a process which will take about two months. In the future it will launch commercial crew missions and the Interplanetary Transport System.',\n",
       "  'full_name': 'Kennedy Space Center Historic Launch Complex 39A',\n",
       "  'id': 'ksc_lc_39a',\n",
       "  'location': {'latitude': 28.6080585,\n",
       "   'longitude': -80.6039558,\n",
       "   'name': 'Cape Canaveral',\n",
       "   'region': 'Florida'},\n",
       "  'status': 'active',\n",
       "  'vehicles_launched': ['Falcon 9', 'Falcon Heavy']}]"
      ]
     },
     "execution_count": 7,
     "metadata": {},
     "output_type": "execute_result"
    }
   ],
   "source": [
    "#json is the method to call on the object (response) to get the data (converts to json data!)\n",
    "# json is a \"bound\" medthod and you have to 'call it' by using the '()' after .json\n",
    "response.json()\n",
    "#produces a list of dictionaries"
   ]
  },
  {
   "cell_type": "code",
   "execution_count": 7,
   "metadata": {},
   "outputs": [
    {
     "data": {
      "text/plain": [
       "[{'details': 'SpaceX primary west coast launch pad for polar orbits and sun synchronous orbits, primarily used for Iridium. Also intended to be capable of launching Falcon Heavy.',\n",
       "  'full_name': 'Vandenberg Air Force Base Space Launch Complex 4E',\n",
       "  'id': 'vafb_slc_4e',\n",
       "  'location': {'latitude': 34.632093,\n",
       "   'longitude': -120.610829,\n",
       "   'name': 'Vandenberg Air Force Base',\n",
       "   'region': 'California'},\n",
       "  'status': 'active',\n",
       "  'vehicles_launched': ['Falcon 9']},\n",
       " {'details': 'SpaceX east coast landing pad, where the historic first landing occurred. Originally used for early Atlas missiles and rockets from Lockheed Martin. Currently being expanded to add two smaller pads for Falcon Heavy RTLS missions.',\n",
       "  'full_name': 'Cape Canaveral Air Force Station Space Launch Complex 13',\n",
       "  'id': 'ccafs_lc_13',\n",
       "  'location': {'latitude': 28.4857244,\n",
       "   'longitude': -80.5449222,\n",
       "   'name': 'Cape Canaveral',\n",
       "   'region': 'Florida'},\n",
       "  'status': 'active',\n",
       "  'vehicles_launched': ['Falcon 9']},\n",
       " {'details': 'SpaceX west coast landing pad, has not yet been used. Expected to first be used during the Formosat-5 launch.',\n",
       "  'full_name': 'Vandenberg Air Force Base Space Launch Complex 4W',\n",
       "  'id': 'vafb_slc_4w',\n",
       "  'location': {'latitude': 34.6332043,\n",
       "   'longitude': -120.6156234,\n",
       "   'name': 'Vandenberg Air Force Base',\n",
       "   'region': 'California'},\n",
       "  'status': 'active',\n",
       "  'vehicles_launched': ['Falcon 9']},\n",
       " {'details': 'SpaceX original west coast launch pad for Falcon 1. Performed a static fire but was never used for a launch and abandoned due to scheduling conflicts.',\n",
       "  'full_name': 'Vandenberg Air Force Base Space Launch Complex 3W',\n",
       "  'id': 'vafb_slc_3w',\n",
       "  'location': {'latitude': 34.6440904,\n",
       "   'longitude': -120.5931438,\n",
       "   'name': 'Vandenberg Air Force Base',\n",
       "   'region': 'California'},\n",
       "  'status': 'retired',\n",
       "  'vehicles_launched': ['Falcon 1']},\n",
       " {'details': 'SpaceX primary Falcon 9 launch pad, where all east coast Falcon 9s launched prior to the AMOS-6 anomaly. Initially used to launch Titan rockets for Lockheed Martin. Back online since CRS-13 on 2017-12-15.',\n",
       "  'full_name': 'Cape Canaveral Air Force Station Space Launch Complex 40',\n",
       "  'id': 'ccafs_slc_40',\n",
       "  'location': {'latitude': 28.5618571,\n",
       "   'longitude': -80.577366,\n",
       "   'name': 'Cape Canaveral',\n",
       "   'region': 'Florida'},\n",
       "  'status': 'active',\n",
       "  'vehicles_launched': ['Falcon 9']},\n",
       " {'details': 'SpaceX original launch site, where all of the Falcon 1 launches occured. Abandoned as SpaceX decided against upgrading the pad to support Falcon 9.',\n",
       "  'full_name': 'Kwajalein Atoll Omelek Island',\n",
       "  'id': 'kwajalein_atoll',\n",
       "  'location': {'latitude': 9.0477206,\n",
       "   'longitude': 167.7431292,\n",
       "   'name': 'Omelek Island',\n",
       "   'region': 'Marshall Islands'},\n",
       "  'status': 'retired',\n",
       "  'vehicles_launched': ['Falcon 1']},\n",
       " {'details': 'SpaceX new launch site currently under construction to help keep up with the Falcon 9 and Heavy manifests. Expected to be completed in late 2018. Initially will be limited to 12 flights per year, and only GTO launches.',\n",
       "  'full_name': 'SpaceX South Texas Launch Site',\n",
       "  'id': 'stls',\n",
       "  'location': {'latitude': 25.9972641,\n",
       "   'longitude': -97.1560845,\n",
       "   'name': 'Boca Chica Village',\n",
       "   'region': 'Texas'},\n",
       "  'status': 'under construction',\n",
       "  'vehicles_launched': ['Falcon 9']},\n",
       " {'details': 'NASA historic launch pad that launched most of the Saturn V and Space Shuttle missions. Initially for Falcon Heavy launches, it is now launching all of SpaceX east coast missions due to the damage from the AMOS-6 anomaly. After SLC-40 repairs are complete, it will be upgraded to support Falcon Heavy, a process which will take about two months. In the future it will launch commercial crew missions and the Interplanetary Transport System.',\n",
       "  'full_name': 'Kennedy Space Center Historic Launch Complex 39A',\n",
       "  'id': 'ksc_lc_39a',\n",
       "  'location': {'latitude': 28.6080585,\n",
       "   'longitude': -80.6039558,\n",
       "   'name': 'Cape Canaveral',\n",
       "   'region': 'Florida'},\n",
       "  'status': 'active',\n",
       "  'vehicles_launched': ['Falcon 9', 'Falcon Heavy']}]"
      ]
     },
     "execution_count": 7,
     "metadata": {},
     "output_type": "execute_result"
    }
   ],
   "source": [
    "response.json() # type is a list   -  len(response,json()) = 8"
   ]
  },
  {
   "cell_type": "code",
   "execution_count": 11,
   "metadata": {},
   "outputs": [
    {
     "name": "stdout",
     "output_type": "stream",
     "text": [
      "<class 'dict'>\n",
      "<class 'dict'>\n",
      "<class 'dict'>\n",
      "<class 'dict'>\n",
      "<class 'dict'>\n",
      "<class 'dict'>\n",
      "<class 'dict'>\n",
      "<class 'dict'>\n"
     ]
    }
   ],
   "source": [
    "for item in response.json():\n",
    "    print(type(item))"
   ]
  },
  {
   "cell_type": "code",
   "execution_count": 9,
   "metadata": {},
   "outputs": [
    {
     "name": "stdout",
     "output_type": "stream",
     "text": [
      "dict_keys(['id', 'full_name', 'status', 'location', 'vehicles_launched', 'details'])\n",
      "dict_keys(['id', 'full_name', 'status', 'location', 'vehicles_launched', 'details'])\n",
      "dict_keys(['id', 'full_name', 'status', 'location', 'vehicles_launched', 'details'])\n",
      "dict_keys(['id', 'full_name', 'status', 'location', 'vehicles_launched', 'details'])\n",
      "dict_keys(['id', 'full_name', 'status', 'location', 'vehicles_launched', 'details'])\n",
      "dict_keys(['id', 'full_name', 'status', 'location', 'vehicles_launched', 'details'])\n",
      "dict_keys(['id', 'full_name', 'status', 'location', 'vehicles_launched', 'details'])\n",
      "dict_keys(['id', 'full_name', 'status', 'location', 'vehicles_launched', 'details'])\n"
     ]
    }
   ],
   "source": [
    "# Remember theirs 8 launchpads in this example\n",
    "for item in response.json():\n",
    "    print(item.keys())\n",
    "         "
   ]
  },
  {
   "cell_type": "code",
   "execution_count": 11,
   "metadata": {},
   "outputs": [
    {
     "name": "stdout",
     "output_type": "stream",
     "text": [
      "Vandenberg Air Force Base Space Launch Complex 4E\n",
      "Cape Canaveral Air Force Station Space Launch Complex 13\n",
      "Vandenberg Air Force Base Space Launch Complex 4W\n",
      "Vandenberg Air Force Base Space Launch Complex 3W\n",
      "Cape Canaveral Air Force Station Space Launch Complex 40\n",
      "Kwajalein Atoll Omelek Island\n",
      "SpaceX South Texas Launch Site\n",
      "Kennedy Space Center Historic Launch Complex 39A\n"
     ]
    }
   ],
   "source": [
    "for item in response.json():\n",
    "    print(item.get('full_name'))"
   ]
  },
  {
   "cell_type": "code",
   "execution_count": 3,
   "metadata": {},
   "outputs": [
    {
     "name": "stdout",
     "output_type": "stream",
     "text": [
      "<Response [200]>\n"
     ]
    }
   ],
   "source": [
    "# Print the response object to the console\n",
    "print(requests.get(url))"
   ]
  },
  {
   "cell_type": "code",
   "execution_count": 4,
   "metadata": {},
   "outputs": [
    {
     "name": "stdout",
     "output_type": "stream",
     "text": [
      "[{'id': 'vafb_slc_4e', 'full_name': 'Vandenberg Air Force Base Space Launch Complex 4E', 'status': 'active', 'location': {'name': 'Vandenberg Air Force Base', 'region': 'California', 'latitude': 34.632093, 'longitude': -120.610829}, 'vehicles_launched': ['Falcon 9'], 'details': 'SpaceX primary west coast launch pad for polar orbits and sun synchronous orbits, primarily used for Iridium. Also intended to be capable of launching Falcon Heavy.'}, {'id': 'ccafs_lc_13', 'full_name': 'Cape Canaveral Air Force Station Space Launch Complex 13', 'status': 'active', 'location': {'name': 'Cape Canaveral', 'region': 'Florida', 'latitude': 28.4857244, 'longitude': -80.5449222}, 'vehicles_launched': ['Falcon 9'], 'details': 'SpaceX east coast landing pad, where the historic first landing occurred. Originally used for early Atlas missiles and rockets from Lockheed Martin. Currently being expanded to add two smaller pads for Falcon Heavy RTLS missions.'}, {'id': 'vafb_slc_4w', 'full_name': 'Vandenberg Air Force Base Space Launch Complex 4W', 'status': 'active', 'location': {'name': 'Vandenberg Air Force Base', 'region': 'California', 'latitude': 34.6332043, 'longitude': -120.6156234}, 'vehicles_launched': ['Falcon 9'], 'details': 'SpaceX west coast landing pad, has not yet been used. Expected to first be used during the Formosat-5 launch.'}, {'id': 'vafb_slc_3w', 'full_name': 'Vandenberg Air Force Base Space Launch Complex 3W', 'status': 'retired', 'location': {'name': 'Vandenberg Air Force Base', 'region': 'California', 'latitude': 34.6440904, 'longitude': -120.5931438}, 'vehicles_launched': ['Falcon 1'], 'details': 'SpaceX original west coast launch pad for Falcon 1. Performed a static fire but was never used for a launch and abandoned due to scheduling conflicts.'}, {'id': 'ccafs_slc_40', 'full_name': 'Cape Canaveral Air Force Station Space Launch Complex 40', 'status': 'active', 'location': {'name': 'Cape Canaveral', 'region': 'Florida', 'latitude': 28.5618571, 'longitude': -80.577366}, 'vehicles_launched': ['Falcon 9'], 'details': 'SpaceX primary Falcon 9 launch pad, where all east coast Falcon 9s launched prior to the AMOS-6 anomaly. Initially used to launch Titan rockets for Lockheed Martin. Back online since CRS-13 on 2017-12-15.'}, {'id': 'kwajalein_atoll', 'full_name': 'Kwajalein Atoll Omelek Island', 'status': 'retired', 'location': {'name': 'Omelek Island', 'region': 'Marshall Islands', 'latitude': 9.0477206, 'longitude': 167.7431292}, 'vehicles_launched': ['Falcon 1'], 'details': 'SpaceX original launch site, where all of the Falcon 1 launches occured. Abandoned as SpaceX decided against upgrading the pad to support Falcon 9.'}, {'id': 'stls', 'full_name': 'SpaceX South Texas Launch Site', 'status': 'under construction', 'location': {'name': 'Boca Chica Village', 'region': 'Texas', 'latitude': 25.9972641, 'longitude': -97.1560845}, 'vehicles_launched': ['Falcon 9'], 'details': 'SpaceX new launch site currently under construction to help keep up with the Falcon 9 and Heavy manifests. Expected to be completed in late 2018. Initially will be limited to 12 flights per year, and only GTO launches.'}, {'id': 'ksc_lc_39a', 'full_name': 'Kennedy Space Center Historic Launch Complex 39A', 'status': 'active', 'location': {'name': 'Cape Canaveral', 'region': 'Florida', 'latitude': 28.6080585, 'longitude': -80.6039558}, 'vehicles_launched': ['Falcon 9', 'Falcon Heavy'], 'details': 'NASA historic launch pad that launched most of the Saturn V and Space Shuttle missions. Initially for Falcon Heavy launches, it is now launching all of SpaceX east coast missions due to the damage from the AMOS-6 anomaly. After SLC-40 repairs are complete, it will be upgraded to support Falcon Heavy, a process which will take about two months. In the future it will launch commercial crew missions and the Interplanetary Transport System.'}]\n"
     ]
    }
   ],
   "source": [
    "# Retrieving data and converting it into JSON\n",
    "# most poplular data interchange\n",
    "# python only?  no.  Almost all languages read the format o fJSON\n",
    "#\n",
    "print(requests.get(url).json())"
   ]
  },
  {
   "cell_type": "code",
   "execution_count": 5,
   "metadata": {},
   "outputs": [
    {
     "name": "stdout",
     "output_type": "stream",
     "text": [
      "[\n",
      "    {\n",
      "        \"details\": \"SpaceX primary west coast launch pad for polar orbits and sun synchronous orbits, primarily used for Iridium. Also intended to be capable of launching Falcon Heavy.\",\n",
      "        \"full_name\": \"Vandenberg Air Force Base Space Launch Complex 4E\",\n",
      "        \"id\": \"vafb_slc_4e\",\n",
      "        \"location\": {\n",
      "            \"latitude\": 34.632093,\n",
      "            \"longitude\": -120.610829,\n",
      "            \"name\": \"Vandenberg Air Force Base\",\n",
      "            \"region\": \"California\"\n",
      "        },\n",
      "        \"status\": \"active\",\n",
      "        \"vehicles_launched\": [\n",
      "            \"Falcon 9\"\n",
      "        ]\n",
      "    },\n",
      "    {\n",
      "        \"details\": \"SpaceX east coast landing pad, where the historic first landing occurred. Originally used for early Atlas missiles and rockets from Lockheed Martin. Currently being expanded to add two smaller pads for Falcon Heavy RTLS missions.\",\n",
      "        \"full_name\": \"Cape Canaveral Air Force Station Space Launch Complex 13\",\n",
      "        \"id\": \"ccafs_lc_13\",\n",
      "        \"location\": {\n",
      "            \"latitude\": 28.4857244,\n",
      "            \"longitude\": -80.5449222,\n",
      "            \"name\": \"Cape Canaveral\",\n",
      "            \"region\": \"Florida\"\n",
      "        },\n",
      "        \"status\": \"active\",\n",
      "        \"vehicles_launched\": [\n",
      "            \"Falcon 9\"\n",
      "        ]\n",
      "    },\n",
      "    {\n",
      "        \"details\": \"SpaceX west coast landing pad, has not yet been used. Expected to first be used during the Formosat-5 launch.\",\n",
      "        \"full_name\": \"Vandenberg Air Force Base Space Launch Complex 4W\",\n",
      "        \"id\": \"vafb_slc_4w\",\n",
      "        \"location\": {\n",
      "            \"latitude\": 34.6332043,\n",
      "            \"longitude\": -120.6156234,\n",
      "            \"name\": \"Vandenberg Air Force Base\",\n",
      "            \"region\": \"California\"\n",
      "        },\n",
      "        \"status\": \"active\",\n",
      "        \"vehicles_launched\": [\n",
      "            \"Falcon 9\"\n",
      "        ]\n",
      "    },\n",
      "    {\n",
      "        \"details\": \"SpaceX original west coast launch pad for Falcon 1. Performed a static fire but was never used for a launch and abandoned due to scheduling conflicts.\",\n",
      "        \"full_name\": \"Vandenberg Air Force Base Space Launch Complex 3W\",\n",
      "        \"id\": \"vafb_slc_3w\",\n",
      "        \"location\": {\n",
      "            \"latitude\": 34.6440904,\n",
      "            \"longitude\": -120.5931438,\n",
      "            \"name\": \"Vandenberg Air Force Base\",\n",
      "            \"region\": \"California\"\n",
      "        },\n",
      "        \"status\": \"retired\",\n",
      "        \"vehicles_launched\": [\n",
      "            \"Falcon 1\"\n",
      "        ]\n",
      "    },\n",
      "    {\n",
      "        \"details\": \"SpaceX primary Falcon 9 launch pad, where all east coast Falcon 9s launched prior to the AMOS-6 anomaly. Initially used to launch Titan rockets for Lockheed Martin. Back online since CRS-13 on 2017-12-15.\",\n",
      "        \"full_name\": \"Cape Canaveral Air Force Station Space Launch Complex 40\",\n",
      "        \"id\": \"ccafs_slc_40\",\n",
      "        \"location\": {\n",
      "            \"latitude\": 28.5618571,\n",
      "            \"longitude\": -80.577366,\n",
      "            \"name\": \"Cape Canaveral\",\n",
      "            \"region\": \"Florida\"\n",
      "        },\n",
      "        \"status\": \"active\",\n",
      "        \"vehicles_launched\": [\n",
      "            \"Falcon 9\"\n",
      "        ]\n",
      "    },\n",
      "    {\n",
      "        \"details\": \"SpaceX original launch site, where all of the Falcon 1 launches occured. Abandoned as SpaceX decided against upgrading the pad to support Falcon 9.\",\n",
      "        \"full_name\": \"Kwajalein Atoll Omelek Island\",\n",
      "        \"id\": \"kwajalein_atoll\",\n",
      "        \"location\": {\n",
      "            \"latitude\": 9.0477206,\n",
      "            \"longitude\": 167.7431292,\n",
      "            \"name\": \"Omelek Island\",\n",
      "            \"region\": \"Marshall Islands\"\n",
      "        },\n",
      "        \"status\": \"retired\",\n",
      "        \"vehicles_launched\": [\n",
      "            \"Falcon 1\"\n",
      "        ]\n",
      "    },\n",
      "    {\n",
      "        \"details\": \"SpaceX new launch site currently under construction to help keep up with the Falcon 9 and Heavy manifests. Expected to be completed in late 2018. Initially will be limited to 12 flights per year, and only GTO launches.\",\n",
      "        \"full_name\": \"SpaceX South Texas Launch Site\",\n",
      "        \"id\": \"stls\",\n",
      "        \"location\": {\n",
      "            \"latitude\": 25.9972641,\n",
      "            \"longitude\": -97.1560845,\n",
      "            \"name\": \"Boca Chica Village\",\n",
      "            \"region\": \"Texas\"\n",
      "        },\n",
      "        \"status\": \"under construction\",\n",
      "        \"vehicles_launched\": [\n",
      "            \"Falcon 9\"\n",
      "        ]\n",
      "    },\n",
      "    {\n",
      "        \"details\": \"NASA historic launch pad that launched most of the Saturn V and Space Shuttle missions. Initially for Falcon Heavy launches, it is now launching all of SpaceX east coast missions due to the damage from the AMOS-6 anomaly. After SLC-40 repairs are complete, it will be upgraded to support Falcon Heavy, a process which will take about two months. In the future it will launch commercial crew missions and the Interplanetary Transport System.\",\n",
      "        \"full_name\": \"Kennedy Space Center Historic Launch Complex 39A\",\n",
      "        \"id\": \"ksc_lc_39a\",\n",
      "        \"location\": {\n",
      "            \"latitude\": 28.6080585,\n",
      "            \"longitude\": -80.6039558,\n",
      "            \"name\": \"Cape Canaveral\",\n",
      "            \"region\": \"Florida\"\n",
      "        },\n",
      "        \"status\": \"active\",\n",
      "        \"vehicles_launched\": [\n",
      "            \"Falcon 9\",\n",
      "            \"Falcon Heavy\"\n",
      "        ]\n",
      "    }\n",
      "]\n"
     ]
    }
   ],
   "source": [
    "# Pretty Print the output of the JSON\n",
    "response = requests.get(url).json()\n",
    "print(json.dumps(response, indent=4, sort_keys=True))"
   ]
  },
  {
   "cell_type": "code",
   "execution_count": null,
   "metadata": {},
   "outputs": [],
   "source": []
  }
 ],
 "metadata": {
  "kernelspec": {
   "display_name": "Python 3",
   "language": "python",
   "name": "python3"
  },
  "language_info": {
   "codemirror_mode": {
    "name": "ipython",
    "version": 3
   },
   "file_extension": ".py",
   "mimetype": "text/x-python",
   "name": "python",
   "nbconvert_exporter": "python",
   "pygments_lexer": "ipython3",
   "version": "3.6.4"
  },
  "varInspector": {
   "cols": {
    "lenName": 16,
    "lenType": 16,
    "lenVar": 40
   },
   "kernels_config": {
    "python": {
     "delete_cmd_postfix": "",
     "delete_cmd_prefix": "del ",
     "library": "var_list.py",
     "varRefreshCmd": "print(var_dic_list())"
    },
    "r": {
     "delete_cmd_postfix": ") ",
     "delete_cmd_prefix": "rm(",
     "library": "var_list.r",
     "varRefreshCmd": "cat(var_dic_list()) "
    }
   },
   "types_to_exclude": [
    "module",
    "function",
    "builtin_function_or_method",
    "instance",
    "_Feature"
   ],
   "window_display": false
  }
 },
 "nbformat": 4,
 "nbformat_minor": 2
}
